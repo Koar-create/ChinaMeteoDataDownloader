{
 "cells": [
  {
   "cell_type": "markdown",
   "id": "05bd41b3-803a-421e-b83f-b56fb20b5939",
   "metadata": {
    "id": "A547k4aK4Wpe",
    "tags": []
   },
   "source": [
    "# **getStationInfo.ipynb**\n",
    "\n",
    "Author: Zhixian Yang\n",
    "\n",
    "Email: [yangzhx28@mail2.sysu.edu.cn](mailto:yangzhx28@mail2.sysu.edu.cn) or [yimu01439@gmail.com](mailto:yimu01439@gmail.com)\n",
    "\n",
    "GitHub: [https://github.com/koar-create](https://github.com/koar-create)\n",
    "\n",
    "Date created: August 2th, 2023\n",
    "\n",
    "Last modified: August 10th, 2023\n",
    "\n",
    "<br><br>\n",
    "\n",
    "---\n",
    "\n",
    "<br><br>\n",
    "\n",
    "## **Description**\n",
    "None."
   ]
  },
  {
   "cell_type": "code",
   "execution_count": 1,
   "id": "e0fac4af-37d4-406e-89f6-d5532deec77a",
   "metadata": {
    "tags": []
   },
   "outputs": [],
   "source": [
    "import os, sys, time, glob\n",
    "import pytz\n",
    "import requests\n",
    "import platform\n",
    "import numpy as np, pandas as pd\n",
    "from datetime import datetime\n",
    "\n",
    "\n",
    "def getStationInfo(dirname=None):\n",
    "    # read 'China_SURF_Station.xlsx'\n",
    "    df1 = pd.read_excel(os.path.join(dirname, 'China_SURF_Station.xlsx'), sheet_name='开放站点')\n",
    "    df1.set_index('区站号', inplace=True)\n",
    "    # if stations.csv does not exist, download it first\n",
    "    url = 'https://raw.githubusercontent.com/crazyapril/ChinaNationalWeatherStations/master/stations.csv'\n",
    "    if not os.path.exists(os.path.join(dirname, 'stations.csv')):\n",
    "        urllib.request.urlretrieve(url, os.path.join(dirname, 'stations.csv'))\n",
    "    \n",
    "    # process stations.csv: \n",
    "    unavai_sites = [53716, 53801, 54175, 54456, 54458, 54501, 54578, 54661, 54733, 54761, 57036, 58444, 58469, 58474, 58599, 58696, 58726, 58755, 58958, 59668, 59755, 59759, 59852, 59936, 59997]\n",
    "    df = pd.read_csv(os.path.join(dirname, 'stations.csv')) #step1: read data\n",
    "    df.rename(columns={'站号': '区站号'}, inplace=True) #step2: rename column '站号' to '区站号'\n",
    "    df['区站号'] = df['区站号'].astype(np.int64) #step3: \"str to int64\"\n",
    "    df = df.set_index('区站号') #step4: set column '区站号' as index (for ease of calculation)\n",
    "    df.drop(unavai_sites, inplace=True) #step5: remove useless sites\n",
    "    for idx in df.index:\n",
    "        df.loc[idx, '站类'] = df1.loc[idx, '站类'] if (idx in df1.index) else np.nan #step6: assign column '站类'\n",
    "    df = df.reset_index() #step7: reset index\n",
    "    new_order = ['区站号', '省份', '站名', '站类', '经度', '纬度', '测站海拔']\n",
    "    df = df.loc[:, new_order] #step8: reorder columns\n",
    "    df.loc[df['区站号'] == 58424, '经度'] = 117.06 #step9: 58424: anomalous latitude and longitude\n",
    "    df.loc[df['区站号'] == 58424, '纬度'] = 30.54\n",
    "    \n",
    "    return df\n",
    "\n",
    "def saveStationInfo(df=None, dirname=None):\n",
    "    # save df as stations.xlsx\n",
    "    filename = 'stations.xlsx'\n",
    "    if not os.path.exists(os.path.join(dirname, filename)):\n",
    "        df.to_excel(os.path.join(dirname, filename), sheet_name='开放站点', index=False)\n",
    "\n",
    "# specify dirname and data's dirname\n",
    "if platform.system() == 'Linux':\n",
    "    dirname = os.getcwd()\n",
    "elif platform.system() == 'Windows':\n",
    "    dirname = os.path.join(\"D:\\\\Documents\", \"A-threads\", \"less important ones\", \"thread2308-4_try_to_purchase_chinese_station_api\")\n",
    "data_dirname = os.path.join(dirname, 'data')\n",
    "\n",
    "df = getStationInfo(dirname=dirname)\n",
    "saveStationInfo(df=df, dirname=dirname)"
   ]
  }
 ],
 "metadata": {
  "kernelspec": {
   "display_name": "Python 3 (ipykernel)",
   "language": "python",
   "name": "python3"
  },
  "language_info": {
   "codemirror_mode": {
    "name": "ipython",
    "version": 3
   },
   "file_extension": ".py",
   "mimetype": "text/x-python",
   "name": "python",
   "nbconvert_exporter": "python",
   "pygments_lexer": "ipython3",
   "version": "3.10.12"
  }
 },
 "nbformat": 4,
 "nbformat_minor": 5
}
